{
  "nbformat": 4,
  "nbformat_minor": 0,
  "metadata": {
    "colab": {
      "provenance": [],
      "authorship_tag": "ABX9TyNI3HfUIKpUyi29+ofwTVAv",
      "include_colab_link": true
    },
    "kernelspec": {
      "name": "python3",
      "display_name": "Python 3"
    },
    "language_info": {
      "name": "python"
    }
  },
  "cells": [
    {
      "cell_type": "markdown",
      "metadata": {
        "id": "view-in-github",
        "colab_type": "text"
      },
      "source": [
        "<a href=\"https://colab.research.google.com/github/Putti-Chethana/Doctor_Visit_Analysis/blob/main/Doctor_Visit_Analysis_Project.ipynb\" target=\"_parent\"><img src=\"https://colab.research.google.com/assets/colab-badge.svg\" alt=\"Open In Colab\"/></a>"
      ]
    },
    {
      "cell_type": "code",
      "source": [
        "import matplotlib.pyplot as plt\n",
        "import numpy as np\n",
        "import pandas as pd\n",
        "import seaborn as sns"
      ],
      "metadata": {
        "id": "9BklbLXt7qCy"
      },
      "execution_count": null,
      "outputs": []
    },
    {
      "cell_type": "markdown",
      "source": [
        "#Read the data"
      ],
      "metadata": {
        "id": "gSQf1TM17yWH"
      }
    },
    {
      "cell_type": "code",
      "source": [
        "df = pd.read_csv('DoctorVisit.csv')"
      ],
      "metadata": {
        "id": "JemYbpEi70LA"
      },
      "execution_count": null,
      "outputs": []
    },
    {
      "cell_type": "code",
      "source": [
        "df.head(15)"
      ],
      "metadata": {
        "colab": {
          "base_uri": "https://localhost:8080/",
          "height": 519
        },
        "id": "cJ5U6CZM766t",
        "outputId": "fef3529d-2047-491c-d2bb-921b9c47bbec"
      },
      "execution_count": null,
      "outputs": [
        {
          "output_type": "execute_result",
          "data": {
            "text/plain": [
              "    Unnamed: 0  visits  gender   age  income  illness  reduced  health  \\\n",
              "0            1       1  female  0.19    0.55        1        4       1   \n",
              "1            2       1  female  0.19    0.45        1        2       1   \n",
              "2            3       1    male  0.19    0.90        3        0       0   \n",
              "3            4       1    male  0.19    0.15        1        0       0   \n",
              "4            5       1    male  0.19    0.45        2        5       1   \n",
              "5            6       1  female  0.19    0.35        5        1       9   \n",
              "6            7       1  female  0.19    0.55        4        0       2   \n",
              "7            8       1  female  0.19    0.15        3        0       6   \n",
              "8            9       1  female  0.19    0.65        2        0       5   \n",
              "9           10       1    male  0.19    0.15        1        0       0   \n",
              "10          11       1    male  0.19    0.45        1        0       0   \n",
              "11          12       1    male  0.19    0.25        2        0       2   \n",
              "12          13       2    male  0.19    0.55        3       13       1   \n",
              "13          14       1    male  0.19    0.45        4        7       6   \n",
              "14          15       1    male  0.19    0.25        3        1       0   \n",
              "\n",
              "   private freepoor freerepat nchronic lchronic  \n",
              "0      yes       no        no       no       no  \n",
              "1      yes       no        no       no       no  \n",
              "2       no       no        no       no       no  \n",
              "3       no       no        no       no       no  \n",
              "4       no       no        no      yes       no  \n",
              "5       no       no        no      yes       no  \n",
              "6       no       no        no       no       no  \n",
              "7       no       no        no       no       no  \n",
              "8      yes       no        no       no       no  \n",
              "9      yes       no        no       no       no  \n",
              "10      no       no        no       no       no  \n",
              "11      no       no       yes       no       no  \n",
              "12      no       no        no      yes       no  \n",
              "13      no       no        no      yes       no  \n",
              "14     yes       no        no      yes       no  "
            ],
            "text/html": [
              "\n",
              "\n",
              "  <div id=\"df-c8fc9ebc-1e95-4169-9283-1d2753256bca\">\n",
              "    <div class=\"colab-df-container\">\n",
              "      <div>\n",
              "<style scoped>\n",
              "    .dataframe tbody tr th:only-of-type {\n",
              "        vertical-align: middle;\n",
              "    }\n",
              "\n",
              "    .dataframe tbody tr th {\n",
              "        vertical-align: top;\n",
              "    }\n",
              "\n",
              "    .dataframe thead th {\n",
              "        text-align: right;\n",
              "    }\n",
              "</style>\n",
              "<table border=\"1\" class=\"dataframe\">\n",
              "  <thead>\n",
              "    <tr style=\"text-align: right;\">\n",
              "      <th></th>\n",
              "      <th>Unnamed: 0</th>\n",
              "      <th>visits</th>\n",
              "      <th>gender</th>\n",
              "      <th>age</th>\n",
              "      <th>income</th>\n",
              "      <th>illness</th>\n",
              "      <th>reduced</th>\n",
              "      <th>health</th>\n",
              "      <th>private</th>\n",
              "      <th>freepoor</th>\n",
              "      <th>freerepat</th>\n",
              "      <th>nchronic</th>\n",
              "      <th>lchronic</th>\n",
              "    </tr>\n",
              "  </thead>\n",
              "  <tbody>\n",
              "    <tr>\n",
              "      <th>0</th>\n",
              "      <td>1</td>\n",
              "      <td>1</td>\n",
              "      <td>female</td>\n",
              "      <td>0.19</td>\n",
              "      <td>0.55</td>\n",
              "      <td>1</td>\n",
              "      <td>4</td>\n",
              "      <td>1</td>\n",
              "      <td>yes</td>\n",
              "      <td>no</td>\n",
              "      <td>no</td>\n",
              "      <td>no</td>\n",
              "      <td>no</td>\n",
              "    </tr>\n",
              "    <tr>\n",
              "      <th>1</th>\n",
              "      <td>2</td>\n",
              "      <td>1</td>\n",
              "      <td>female</td>\n",
              "      <td>0.19</td>\n",
              "      <td>0.45</td>\n",
              "      <td>1</td>\n",
              "      <td>2</td>\n",
              "      <td>1</td>\n",
              "      <td>yes</td>\n",
              "      <td>no</td>\n",
              "      <td>no</td>\n",
              "      <td>no</td>\n",
              "      <td>no</td>\n",
              "    </tr>\n",
              "    <tr>\n",
              "      <th>2</th>\n",
              "      <td>3</td>\n",
              "      <td>1</td>\n",
              "      <td>male</td>\n",
              "      <td>0.19</td>\n",
              "      <td>0.90</td>\n",
              "      <td>3</td>\n",
              "      <td>0</td>\n",
              "      <td>0</td>\n",
              "      <td>no</td>\n",
              "      <td>no</td>\n",
              "      <td>no</td>\n",
              "      <td>no</td>\n",
              "      <td>no</td>\n",
              "    </tr>\n",
              "    <tr>\n",
              "      <th>3</th>\n",
              "      <td>4</td>\n",
              "      <td>1</td>\n",
              "      <td>male</td>\n",
              "      <td>0.19</td>\n",
              "      <td>0.15</td>\n",
              "      <td>1</td>\n",
              "      <td>0</td>\n",
              "      <td>0</td>\n",
              "      <td>no</td>\n",
              "      <td>no</td>\n",
              "      <td>no</td>\n",
              "      <td>no</td>\n",
              "      <td>no</td>\n",
              "    </tr>\n",
              "    <tr>\n",
              "      <th>4</th>\n",
              "      <td>5</td>\n",
              "      <td>1</td>\n",
              "      <td>male</td>\n",
              "      <td>0.19</td>\n",
              "      <td>0.45</td>\n",
              "      <td>2</td>\n",
              "      <td>5</td>\n",
              "      <td>1</td>\n",
              "      <td>no</td>\n",
              "      <td>no</td>\n",
              "      <td>no</td>\n",
              "      <td>yes</td>\n",
              "      <td>no</td>\n",
              "    </tr>\n",
              "    <tr>\n",
              "      <th>5</th>\n",
              "      <td>6</td>\n",
              "      <td>1</td>\n",
              "      <td>female</td>\n",
              "      <td>0.19</td>\n",
              "      <td>0.35</td>\n",
              "      <td>5</td>\n",
              "      <td>1</td>\n",
              "      <td>9</td>\n",
              "      <td>no</td>\n",
              "      <td>no</td>\n",
              "      <td>no</td>\n",
              "      <td>yes</td>\n",
              "      <td>no</td>\n",
              "    </tr>\n",
              "    <tr>\n",
              "      <th>6</th>\n",
              "      <td>7</td>\n",
              "      <td>1</td>\n",
              "      <td>female</td>\n",
              "      <td>0.19</td>\n",
              "      <td>0.55</td>\n",
              "      <td>4</td>\n",
              "      <td>0</td>\n",
              "      <td>2</td>\n",
              "      <td>no</td>\n",
              "      <td>no</td>\n",
              "      <td>no</td>\n",
              "      <td>no</td>\n",
              "      <td>no</td>\n",
              "    </tr>\n",
              "    <tr>\n",
              "      <th>7</th>\n",
              "      <td>8</td>\n",
              "      <td>1</td>\n",
              "      <td>female</td>\n",
              "      <td>0.19</td>\n",
              "      <td>0.15</td>\n",
              "      <td>3</td>\n",
              "      <td>0</td>\n",
              "      <td>6</td>\n",
              "      <td>no</td>\n",
              "      <td>no</td>\n",
              "      <td>no</td>\n",
              "      <td>no</td>\n",
              "      <td>no</td>\n",
              "    </tr>\n",
              "    <tr>\n",
              "      <th>8</th>\n",
              "      <td>9</td>\n",
              "      <td>1</td>\n",
              "      <td>female</td>\n",
              "      <td>0.19</td>\n",
              "      <td>0.65</td>\n",
              "      <td>2</td>\n",
              "      <td>0</td>\n",
              "      <td>5</td>\n",
              "      <td>yes</td>\n",
              "      <td>no</td>\n",
              "      <td>no</td>\n",
              "      <td>no</td>\n",
              "      <td>no</td>\n",
              "    </tr>\n",
              "    <tr>\n",
              "      <th>9</th>\n",
              "      <td>10</td>\n",
              "      <td>1</td>\n",
              "      <td>male</td>\n",
              "      <td>0.19</td>\n",
              "      <td>0.15</td>\n",
              "      <td>1</td>\n",
              "      <td>0</td>\n",
              "      <td>0</td>\n",
              "      <td>yes</td>\n",
              "      <td>no</td>\n",
              "      <td>no</td>\n",
              "      <td>no</td>\n",
              "      <td>no</td>\n",
              "    </tr>\n",
              "    <tr>\n",
              "      <th>10</th>\n",
              "      <td>11</td>\n",
              "      <td>1</td>\n",
              "      <td>male</td>\n",
              "      <td>0.19</td>\n",
              "      <td>0.45</td>\n",
              "      <td>1</td>\n",
              "      <td>0</td>\n",
              "      <td>0</td>\n",
              "      <td>no</td>\n",
              "      <td>no</td>\n",
              "      <td>no</td>\n",
              "      <td>no</td>\n",
              "      <td>no</td>\n",
              "    </tr>\n",
              "    <tr>\n",
              "      <th>11</th>\n",
              "      <td>12</td>\n",
              "      <td>1</td>\n",
              "      <td>male</td>\n",
              "      <td>0.19</td>\n",
              "      <td>0.25</td>\n",
              "      <td>2</td>\n",
              "      <td>0</td>\n",
              "      <td>2</td>\n",
              "      <td>no</td>\n",
              "      <td>no</td>\n",
              "      <td>yes</td>\n",
              "      <td>no</td>\n",
              "      <td>no</td>\n",
              "    </tr>\n",
              "    <tr>\n",
              "      <th>12</th>\n",
              "      <td>13</td>\n",
              "      <td>2</td>\n",
              "      <td>male</td>\n",
              "      <td>0.19</td>\n",
              "      <td>0.55</td>\n",
              "      <td>3</td>\n",
              "      <td>13</td>\n",
              "      <td>1</td>\n",
              "      <td>no</td>\n",
              "      <td>no</td>\n",
              "      <td>no</td>\n",
              "      <td>yes</td>\n",
              "      <td>no</td>\n",
              "    </tr>\n",
              "    <tr>\n",
              "      <th>13</th>\n",
              "      <td>14</td>\n",
              "      <td>1</td>\n",
              "      <td>male</td>\n",
              "      <td>0.19</td>\n",
              "      <td>0.45</td>\n",
              "      <td>4</td>\n",
              "      <td>7</td>\n",
              "      <td>6</td>\n",
              "      <td>no</td>\n",
              "      <td>no</td>\n",
              "      <td>no</td>\n",
              "      <td>yes</td>\n",
              "      <td>no</td>\n",
              "    </tr>\n",
              "    <tr>\n",
              "      <th>14</th>\n",
              "      <td>15</td>\n",
              "      <td>1</td>\n",
              "      <td>male</td>\n",
              "      <td>0.19</td>\n",
              "      <td>0.25</td>\n",
              "      <td>3</td>\n",
              "      <td>1</td>\n",
              "      <td>0</td>\n",
              "      <td>yes</td>\n",
              "      <td>no</td>\n",
              "      <td>no</td>\n",
              "      <td>yes</td>\n",
              "      <td>no</td>\n",
              "    </tr>\n",
              "  </tbody>\n",
              "</table>\n",
              "</div>\n",
              "      <button class=\"colab-df-convert\" onclick=\"convertToInteractive('df-c8fc9ebc-1e95-4169-9283-1d2753256bca')\"\n",
              "              title=\"Convert this dataframe to an interactive table.\"\n",
              "              style=\"display:none;\">\n",
              "\n",
              "  <svg xmlns=\"http://www.w3.org/2000/svg\" height=\"24px\"viewBox=\"0 0 24 24\"\n",
              "       width=\"24px\">\n",
              "    <path d=\"M0 0h24v24H0V0z\" fill=\"none\"/>\n",
              "    <path d=\"M18.56 5.44l.94 2.06.94-2.06 2.06-.94-2.06-.94-.94-2.06-.94 2.06-2.06.94zm-11 1L8.5 8.5l.94-2.06 2.06-.94-2.06-.94L8.5 2.5l-.94 2.06-2.06.94zm10 10l.94 2.06.94-2.06 2.06-.94-2.06-.94-.94-2.06-.94 2.06-2.06.94z\"/><path d=\"M17.41 7.96l-1.37-1.37c-.4-.4-.92-.59-1.43-.59-.52 0-1.04.2-1.43.59L10.3 9.45l-7.72 7.72c-.78.78-.78 2.05 0 2.83L4 21.41c.39.39.9.59 1.41.59.51 0 1.02-.2 1.41-.59l7.78-7.78 2.81-2.81c.8-.78.8-2.07 0-2.86zM5.41 20L4 18.59l7.72-7.72 1.47 1.35L5.41 20z\"/>\n",
              "  </svg>\n",
              "      </button>\n",
              "\n",
              "\n",
              "\n",
              "    <div id=\"df-1a6fbf15-12d0-4c0c-ac3a-39ae8ac0164d\">\n",
              "      <button class=\"colab-df-quickchart\" onclick=\"quickchart('df-1a6fbf15-12d0-4c0c-ac3a-39ae8ac0164d')\"\n",
              "              title=\"Suggest charts.\"\n",
              "              style=\"display:none;\">\n",
              "\n",
              "<svg xmlns=\"http://www.w3.org/2000/svg\" height=\"24px\"viewBox=\"0 0 24 24\"\n",
              "     width=\"24px\">\n",
              "    <g>\n",
              "        <path d=\"M19 3H5c-1.1 0-2 .9-2 2v14c0 1.1.9 2 2 2h14c1.1 0 2-.9 2-2V5c0-1.1-.9-2-2-2zM9 17H7v-7h2v7zm4 0h-2V7h2v10zm4 0h-2v-4h2v4z\"/>\n",
              "    </g>\n",
              "</svg>\n",
              "      </button>\n",
              "    </div>\n",
              "\n",
              "<style>\n",
              "  .colab-df-quickchart {\n",
              "    background-color: #E8F0FE;\n",
              "    border: none;\n",
              "    border-radius: 50%;\n",
              "    cursor: pointer;\n",
              "    display: none;\n",
              "    fill: #1967D2;\n",
              "    height: 32px;\n",
              "    padding: 0 0 0 0;\n",
              "    width: 32px;\n",
              "  }\n",
              "\n",
              "  .colab-df-quickchart:hover {\n",
              "    background-color: #E2EBFA;\n",
              "    box-shadow: 0px 1px 2px rgba(60, 64, 67, 0.3), 0px 1px 3px 1px rgba(60, 64, 67, 0.15);\n",
              "    fill: #174EA6;\n",
              "  }\n",
              "\n",
              "  [theme=dark] .colab-df-quickchart {\n",
              "    background-color: #3B4455;\n",
              "    fill: #D2E3FC;\n",
              "  }\n",
              "\n",
              "  [theme=dark] .colab-df-quickchart:hover {\n",
              "    background-color: #434B5C;\n",
              "    box-shadow: 0px 1px 3px 1px rgba(0, 0, 0, 0.15);\n",
              "    filter: drop-shadow(0px 1px 2px rgba(0, 0, 0, 0.3));\n",
              "    fill: #FFFFFF;\n",
              "  }\n",
              "</style>\n",
              "\n",
              "    <script>\n",
              "      async function quickchart(key) {\n",
              "        const containerElement = document.querySelector('#' + key);\n",
              "        const charts = await google.colab.kernel.invokeFunction(\n",
              "            'suggestCharts', [key], {});\n",
              "      }\n",
              "    </script>\n",
              "\n",
              "      <script>\n",
              "\n",
              "function displayQuickchartButton(domScope) {\n",
              "  let quickchartButtonEl =\n",
              "    domScope.querySelector('#df-1a6fbf15-12d0-4c0c-ac3a-39ae8ac0164d button.colab-df-quickchart');\n",
              "  quickchartButtonEl.style.display =\n",
              "    google.colab.kernel.accessAllowed ? 'block' : 'none';\n",
              "}\n",
              "\n",
              "        displayQuickchartButton(document);\n",
              "      </script>\n",
              "      <style>\n",
              "    .colab-df-container {\n",
              "      display:flex;\n",
              "      flex-wrap:wrap;\n",
              "      gap: 12px;\n",
              "    }\n",
              "\n",
              "    .colab-df-convert {\n",
              "      background-color: #E8F0FE;\n",
              "      border: none;\n",
              "      border-radius: 50%;\n",
              "      cursor: pointer;\n",
              "      display: none;\n",
              "      fill: #1967D2;\n",
              "      height: 32px;\n",
              "      padding: 0 0 0 0;\n",
              "      width: 32px;\n",
              "    }\n",
              "\n",
              "    .colab-df-convert:hover {\n",
              "      background-color: #E2EBFA;\n",
              "      box-shadow: 0px 1px 2px rgba(60, 64, 67, 0.3), 0px 1px 3px 1px rgba(60, 64, 67, 0.15);\n",
              "      fill: #174EA6;\n",
              "    }\n",
              "\n",
              "    [theme=dark] .colab-df-convert {\n",
              "      background-color: #3B4455;\n",
              "      fill: #D2E3FC;\n",
              "    }\n",
              "\n",
              "    [theme=dark] .colab-df-convert:hover {\n",
              "      background-color: #434B5C;\n",
              "      box-shadow: 0px 1px 3px 1px rgba(0, 0, 0, 0.15);\n",
              "      filter: drop-shadow(0px 1px 2px rgba(0, 0, 0, 0.3));\n",
              "      fill: #FFFFFF;\n",
              "    }\n",
              "  </style>\n",
              "\n",
              "      <script>\n",
              "        const buttonEl =\n",
              "          document.querySelector('#df-c8fc9ebc-1e95-4169-9283-1d2753256bca button.colab-df-convert');\n",
              "        buttonEl.style.display =\n",
              "          google.colab.kernel.accessAllowed ? 'block' : 'none';\n",
              "\n",
              "        async function convertToInteractive(key) {\n",
              "          const element = document.querySelector('#df-c8fc9ebc-1e95-4169-9283-1d2753256bca');\n",
              "          const dataTable =\n",
              "            await google.colab.kernel.invokeFunction('convertToInteractive',\n",
              "                                                     [key], {});\n",
              "          if (!dataTable) return;\n",
              "\n",
              "          const docLinkHtml = 'Like what you see? Visit the ' +\n",
              "            '<a target=\"_blank\" href=https://colab.research.google.com/notebooks/data_table.ipynb>data table notebook</a>'\n",
              "            + ' to learn more about interactive tables.';\n",
              "          element.innerHTML = '';\n",
              "          dataTable['output_type'] = 'display_data';\n",
              "          await google.colab.output.renderOutput(dataTable, element);\n",
              "          const docLink = document.createElement('div');\n",
              "          docLink.innerHTML = docLinkHtml;\n",
              "          element.appendChild(docLink);\n",
              "        }\n",
              "      </script>\n",
              "    </div>\n",
              "  </div>\n"
            ]
          },
          "metadata": {},
          "execution_count": 3
        }
      ]
    },
    {
      "cell_type": "markdown",
      "source": [
        "Above table shows the first 15 rows of the dataset."
      ],
      "metadata": {
        "id": "rY5eJVmkBeXz"
      }
    },
    {
      "cell_type": "markdown",
      "source": [
        "#Display complete information of the columns of the dataset such as column names, count, datatypes, and null values"
      ],
      "metadata": {
        "id": "v8lb8i_f7-7S"
      }
    },
    {
      "cell_type": "code",
      "source": [
        "df.info()"
      ],
      "metadata": {
        "colab": {
          "base_uri": "https://localhost:8080/"
        },
        "id": "aOA6Vonv8AW7",
        "outputId": "b4188894-542f-49a5-9826-7910900e03d6"
      },
      "execution_count": null,
      "outputs": [
        {
          "output_type": "stream",
          "name": "stdout",
          "text": [
            "<class 'pandas.core.frame.DataFrame'>\n",
            "RangeIndex: 5190 entries, 0 to 5189\n",
            "Data columns (total 13 columns):\n",
            " #   Column      Non-Null Count  Dtype  \n",
            "---  ------      --------------  -----  \n",
            " 0   Unnamed: 0  5190 non-null   int64  \n",
            " 1   visits      5190 non-null   int64  \n",
            " 2   gender      5190 non-null   object \n",
            " 3   age         5190 non-null   float64\n",
            " 4   income      5190 non-null   float64\n",
            " 5   illness     5190 non-null   int64  \n",
            " 6   reduced     5190 non-null   int64  \n",
            " 7   health      5190 non-null   int64  \n",
            " 8   private     5190 non-null   object \n",
            " 9   freepoor    5190 non-null   object \n",
            " 10  freerepat   5190 non-null   object \n",
            " 11  nchronic    5190 non-null   object \n",
            " 12  lchronic    5190 non-null   object \n",
            "dtypes: float64(2), int64(5), object(6)\n",
            "memory usage: 527.2+ KB\n"
          ]
        }
      ]
    },
    {
      "cell_type": "markdown",
      "source": [
        "#Find the total number of people in the dataset based on the count of illness"
      ],
      "metadata": {
        "id": "2eKDRxlZ8EAc"
      }
    },
    {
      "cell_type": "code",
      "source": [
        "df[\"illness\"].value_counts()"
      ],
      "metadata": {
        "colab": {
          "base_uri": "https://localhost:8080/"
        },
        "id": "MzlmKTDO8FGV",
        "outputId": "0cfed0f9-0594-4d81-b1a3-11fb27457b2e"
      },
      "execution_count": null,
      "outputs": [
        {
          "output_type": "execute_result",
          "data": {
            "text/plain": [
              "1    1638\n",
              "0    1554\n",
              "2     946\n",
              "3     542\n",
              "4     274\n",
              "5     236\n",
              "Name: illness, dtype: int64"
            ]
          },
          "metadata": {},
          "execution_count": 6
        }
      ]
    },
    {
      "cell_type": "markdown",
      "source": [
        "#Describe specific columns of the dataset such as column names, count, datatypes, and null values"
      ],
      "metadata": {
        "id": "KRIxfVtA8JCX"
      }
    },
    {
      "cell_type": "code",
      "source": [
        "df[[\"illness\",\"visits\",\"age\",\"income\",\"reduced\"]].describe()"
      ],
      "metadata": {
        "colab": {
          "base_uri": "https://localhost:8080/",
          "height": 300
        },
        "id": "vKbtKAjQ8KUu",
        "outputId": "6a16a8b4-7615-40da-d7da-b9a56e1f0577"
      },
      "execution_count": null,
      "outputs": [
        {
          "output_type": "execute_result",
          "data": {
            "text/plain": [
              "           illness       visits          age       income      reduced\n",
              "count  5190.000000  5190.000000  5190.000000  5190.000000  5190.000000\n",
              "mean      1.431985     0.301734     0.406385     0.583160     0.861850\n",
              "std       1.384152     0.798134     0.204782     0.368907     2.887628\n",
              "min       0.000000     0.000000     0.190000     0.000000     0.000000\n",
              "25%       0.000000     0.000000     0.220000     0.250000     0.000000\n",
              "50%       1.000000     0.000000     0.320000     0.550000     0.000000\n",
              "75%       2.000000     0.000000     0.620000     0.900000     0.000000\n",
              "max       5.000000     9.000000     0.720000     1.500000    14.000000"
            ],
            "text/html": [
              "\n",
              "\n",
              "  <div id=\"df-c9d7581a-4b37-4f03-a849-a1d51dde23f7\">\n",
              "    <div class=\"colab-df-container\">\n",
              "      <div>\n",
              "<style scoped>\n",
              "    .dataframe tbody tr th:only-of-type {\n",
              "        vertical-align: middle;\n",
              "    }\n",
              "\n",
              "    .dataframe tbody tr th {\n",
              "        vertical-align: top;\n",
              "    }\n",
              "\n",
              "    .dataframe thead th {\n",
              "        text-align: right;\n",
              "    }\n",
              "</style>\n",
              "<table border=\"1\" class=\"dataframe\">\n",
              "  <thead>\n",
              "    <tr style=\"text-align: right;\">\n",
              "      <th></th>\n",
              "      <th>illness</th>\n",
              "      <th>visits</th>\n",
              "      <th>age</th>\n",
              "      <th>income</th>\n",
              "      <th>reduced</th>\n",
              "    </tr>\n",
              "  </thead>\n",
              "  <tbody>\n",
              "    <tr>\n",
              "      <th>count</th>\n",
              "      <td>5190.000000</td>\n",
              "      <td>5190.000000</td>\n",
              "      <td>5190.000000</td>\n",
              "      <td>5190.000000</td>\n",
              "      <td>5190.000000</td>\n",
              "    </tr>\n",
              "    <tr>\n",
              "      <th>mean</th>\n",
              "      <td>1.431985</td>\n",
              "      <td>0.301734</td>\n",
              "      <td>0.406385</td>\n",
              "      <td>0.583160</td>\n",
              "      <td>0.861850</td>\n",
              "    </tr>\n",
              "    <tr>\n",
              "      <th>std</th>\n",
              "      <td>1.384152</td>\n",
              "      <td>0.798134</td>\n",
              "      <td>0.204782</td>\n",
              "      <td>0.368907</td>\n",
              "      <td>2.887628</td>\n",
              "    </tr>\n",
              "    <tr>\n",
              "      <th>min</th>\n",
              "      <td>0.000000</td>\n",
              "      <td>0.000000</td>\n",
              "      <td>0.190000</td>\n",
              "      <td>0.000000</td>\n",
              "      <td>0.000000</td>\n",
              "    </tr>\n",
              "    <tr>\n",
              "      <th>25%</th>\n",
              "      <td>0.000000</td>\n",
              "      <td>0.000000</td>\n",
              "      <td>0.220000</td>\n",
              "      <td>0.250000</td>\n",
              "      <td>0.000000</td>\n",
              "    </tr>\n",
              "    <tr>\n",
              "      <th>50%</th>\n",
              "      <td>1.000000</td>\n",
              "      <td>0.000000</td>\n",
              "      <td>0.320000</td>\n",
              "      <td>0.550000</td>\n",
              "      <td>0.000000</td>\n",
              "    </tr>\n",
              "    <tr>\n",
              "      <th>75%</th>\n",
              "      <td>2.000000</td>\n",
              "      <td>0.000000</td>\n",
              "      <td>0.620000</td>\n",
              "      <td>0.900000</td>\n",
              "      <td>0.000000</td>\n",
              "    </tr>\n",
              "    <tr>\n",
              "      <th>max</th>\n",
              "      <td>5.000000</td>\n",
              "      <td>9.000000</td>\n",
              "      <td>0.720000</td>\n",
              "      <td>1.500000</td>\n",
              "      <td>14.000000</td>\n",
              "    </tr>\n",
              "  </tbody>\n",
              "</table>\n",
              "</div>\n",
              "      <button class=\"colab-df-convert\" onclick=\"convertToInteractive('df-c9d7581a-4b37-4f03-a849-a1d51dde23f7')\"\n",
              "              title=\"Convert this dataframe to an interactive table.\"\n",
              "              style=\"display:none;\">\n",
              "\n",
              "  <svg xmlns=\"http://www.w3.org/2000/svg\" height=\"24px\"viewBox=\"0 0 24 24\"\n",
              "       width=\"24px\">\n",
              "    <path d=\"M0 0h24v24H0V0z\" fill=\"none\"/>\n",
              "    <path d=\"M18.56 5.44l.94 2.06.94-2.06 2.06-.94-2.06-.94-.94-2.06-.94 2.06-2.06.94zm-11 1L8.5 8.5l.94-2.06 2.06-.94-2.06-.94L8.5 2.5l-.94 2.06-2.06.94zm10 10l.94 2.06.94-2.06 2.06-.94-2.06-.94-.94-2.06-.94 2.06-2.06.94z\"/><path d=\"M17.41 7.96l-1.37-1.37c-.4-.4-.92-.59-1.43-.59-.52 0-1.04.2-1.43.59L10.3 9.45l-7.72 7.72c-.78.78-.78 2.05 0 2.83L4 21.41c.39.39.9.59 1.41.59.51 0 1.02-.2 1.41-.59l7.78-7.78 2.81-2.81c.8-.78.8-2.07 0-2.86zM5.41 20L4 18.59l7.72-7.72 1.47 1.35L5.41 20z\"/>\n",
              "  </svg>\n",
              "      </button>\n",
              "\n",
              "\n",
              "\n",
              "    <div id=\"df-8a467b15-1f30-4438-8427-0fce2f5a3135\">\n",
              "      <button class=\"colab-df-quickchart\" onclick=\"quickchart('df-8a467b15-1f30-4438-8427-0fce2f5a3135')\"\n",
              "              title=\"Suggest charts.\"\n",
              "              style=\"display:none;\">\n",
              "\n",
              "<svg xmlns=\"http://www.w3.org/2000/svg\" height=\"24px\"viewBox=\"0 0 24 24\"\n",
              "     width=\"24px\">\n",
              "    <g>\n",
              "        <path d=\"M19 3H5c-1.1 0-2 .9-2 2v14c0 1.1.9 2 2 2h14c1.1 0 2-.9 2-2V5c0-1.1-.9-2-2-2zM9 17H7v-7h2v7zm4 0h-2V7h2v10zm4 0h-2v-4h2v4z\"/>\n",
              "    </g>\n",
              "</svg>\n",
              "      </button>\n",
              "    </div>\n",
              "\n",
              "<style>\n",
              "  .colab-df-quickchart {\n",
              "    background-color: #E8F0FE;\n",
              "    border: none;\n",
              "    border-radius: 50%;\n",
              "    cursor: pointer;\n",
              "    display: none;\n",
              "    fill: #1967D2;\n",
              "    height: 32px;\n",
              "    padding: 0 0 0 0;\n",
              "    width: 32px;\n",
              "  }\n",
              "\n",
              "  .colab-df-quickchart:hover {\n",
              "    background-color: #E2EBFA;\n",
              "    box-shadow: 0px 1px 2px rgba(60, 64, 67, 0.3), 0px 1px 3px 1px rgba(60, 64, 67, 0.15);\n",
              "    fill: #174EA6;\n",
              "  }\n",
              "\n",
              "  [theme=dark] .colab-df-quickchart {\n",
              "    background-color: #3B4455;\n",
              "    fill: #D2E3FC;\n",
              "  }\n",
              "\n",
              "  [theme=dark] .colab-df-quickchart:hover {\n",
              "    background-color: #434B5C;\n",
              "    box-shadow: 0px 1px 3px 1px rgba(0, 0, 0, 0.15);\n",
              "    filter: drop-shadow(0px 1px 2px rgba(0, 0, 0, 0.3));\n",
              "    fill: #FFFFFF;\n",
              "  }\n",
              "</style>\n",
              "\n",
              "    <script>\n",
              "      async function quickchart(key) {\n",
              "        const containerElement = document.querySelector('#' + key);\n",
              "        const charts = await google.colab.kernel.invokeFunction(\n",
              "            'suggestCharts', [key], {});\n",
              "      }\n",
              "    </script>\n",
              "\n",
              "      <script>\n",
              "\n",
              "function displayQuickchartButton(domScope) {\n",
              "  let quickchartButtonEl =\n",
              "    domScope.querySelector('#df-8a467b15-1f30-4438-8427-0fce2f5a3135 button.colab-df-quickchart');\n",
              "  quickchartButtonEl.style.display =\n",
              "    google.colab.kernel.accessAllowed ? 'block' : 'none';\n",
              "}\n",
              "\n",
              "        displayQuickchartButton(document);\n",
              "      </script>\n",
              "      <style>\n",
              "    .colab-df-container {\n",
              "      display:flex;\n",
              "      flex-wrap:wrap;\n",
              "      gap: 12px;\n",
              "    }\n",
              "\n",
              "    .colab-df-convert {\n",
              "      background-color: #E8F0FE;\n",
              "      border: none;\n",
              "      border-radius: 50%;\n",
              "      cursor: pointer;\n",
              "      display: none;\n",
              "      fill: #1967D2;\n",
              "      height: 32px;\n",
              "      padding: 0 0 0 0;\n",
              "      width: 32px;\n",
              "    }\n",
              "\n",
              "    .colab-df-convert:hover {\n",
              "      background-color: #E2EBFA;\n",
              "      box-shadow: 0px 1px 2px rgba(60, 64, 67, 0.3), 0px 1px 3px 1px rgba(60, 64, 67, 0.15);\n",
              "      fill: #174EA6;\n",
              "    }\n",
              "\n",
              "    [theme=dark] .colab-df-convert {\n",
              "      background-color: #3B4455;\n",
              "      fill: #D2E3FC;\n",
              "    }\n",
              "\n",
              "    [theme=dark] .colab-df-convert:hover {\n",
              "      background-color: #434B5C;\n",
              "      box-shadow: 0px 1px 3px 1px rgba(0, 0, 0, 0.15);\n",
              "      filter: drop-shadow(0px 1px 2px rgba(0, 0, 0, 0.3));\n",
              "      fill: #FFFFFF;\n",
              "    }\n",
              "  </style>\n",
              "\n",
              "      <script>\n",
              "        const buttonEl =\n",
              "          document.querySelector('#df-c9d7581a-4b37-4f03-a849-a1d51dde23f7 button.colab-df-convert');\n",
              "        buttonEl.style.display =\n",
              "          google.colab.kernel.accessAllowed ? 'block' : 'none';\n",
              "\n",
              "        async function convertToInteractive(key) {\n",
              "          const element = document.querySelector('#df-c9d7581a-4b37-4f03-a849-a1d51dde23f7');\n",
              "          const dataTable =\n",
              "            await google.colab.kernel.invokeFunction('convertToInteractive',\n",
              "                                                     [key], {});\n",
              "          if (!dataTable) return;\n",
              "\n",
              "          const docLinkHtml = 'Like what you see? Visit the ' +\n",
              "            '<a target=\"_blank\" href=https://colab.research.google.com/notebooks/data_table.ipynb>data table notebook</a>'\n",
              "            + ' to learn more about interactive tables.';\n",
              "          element.innerHTML = '';\n",
              "          dataTable['output_type'] = 'display_data';\n",
              "          await google.colab.output.renderOutput(dataTable, element);\n",
              "          const docLink = document.createElement('div');\n",
              "          docLink.innerHTML = docLinkHtml;\n",
              "          element.appendChild(docLink);\n",
              "        }\n",
              "      </script>\n",
              "    </div>\n",
              "  </div>\n"
            ]
          },
          "metadata": {},
          "execution_count": 7
        }
      ]
    },
    {
      "cell_type": "code",
      "source": [
        "df.dropna(inplace=True)"
      ],
      "metadata": {
        "id": "Zkcmt_tm2rCN"
      },
      "execution_count": null,
      "outputs": []
    },
    {
      "cell_type": "markdown",
      "source": [
        "#Visualize and analyze the minimum,maximum and medium income of the patients"
      ],
      "metadata": {
        "id": "amZ8JRki8VaB"
      }
    },
    {
      "cell_type": "code",
      "source": [
        "y = list(df.income)\n",
        "plt.boxplot(y)\n",
        "plt.show()"
      ],
      "metadata": {
        "colab": {
          "base_uri": "https://localhost:8080/",
          "height": 430
        },
        "id": "sHeOIgGW8WhA",
        "outputId": "c9b09be0-087f-4bb4-cee5-a05ca4774c5b"
      },
      "execution_count": null,
      "outputs": [
        {
          "output_type": "display_data",
          "data": {
            "text/plain": [
              "<Figure size 640x480 with 1 Axes>"
            ],
            "image/png": "[encoded data removed]"
          },
          "metadata": {}
        }
      ]
    },
    {
      "cell_type": "markdown",
      "source": [
        "#Visualize and analyze the illness of the patients."
      ],
      "metadata": {
        "id": "a7b9AKE7N5AW"
      }
    },
    {
      "cell_type": "code",
      "source": [
        "y = list(df.illness)\n",
        "plt.boxplot(y)\n",
        "plt.show()"
      ],
      "metadata": {
        "colab": {
          "base_uri": "https://localhost:8080/",
          "height": 430
        },
        "id": "oK0Cb19bN8_7",
        "outputId": "fa111ba9-91b4-4372-80be-41ed97248564"
      },
      "execution_count": null,
      "outputs": [
        {
          "output_type": "display_data",
          "data": {
            "text/plain": [
              "<Figure size 640x480 with 1 Axes>"
            ],
            "image/png": "[encoded data removed]"
          },
          "metadata": {}
        }
      ]
    },
    {
      "cell_type": "markdown",
      "source": [
        "#Find out the number of days of reduced activity of male and female separately due to illness"
      ],
      "metadata": {
        "id": "yZJohPpQ8bmp"
      }
    },
    {
      "cell_type": "code",
      "source": [
        "df.groupby([\"gender\", \"reduced\"]).mean()"
      ],
      "metadata": {
        "colab": {
          "base_uri": "https://localhost:8080/",
          "height": 1000
        },
        "id": "ovgbEAus8cw6",
        "outputId": "4ee25dd8-9c71-4494-879c-0871927d40a2"
      },
      "execution_count": null,
      "outputs": [
        {
          "output_type": "stream",
          "name": "stderr",
          "text": [
            "<ipython-input-9-7d9c9985c1bf>:1: FutureWarning: The default value of numeric_only in DataFrameGroupBy.mean is deprecated. In a future version, numeric_only will default to False. Either specify numeric_only or select only columns which should be valid for the function.\n",
            "  df.groupby([\"gender\", \"reduced\"]).mean()\n"
          ]
        },
        {
          "output_type": "execute_result",
          "data": {
            "text/plain": [
              "                 Unnamed: 0    visits       age    income   illness    health\n",
              "gender reduced                                                               \n",
              "female 0        2524.038512  0.229322  0.465755  0.482735  1.462144  1.115098\n",
              "       1        1985.768421  0.400000  0.325684  0.542105  2.242105  1.610526\n",
              "       2        1622.618182  0.672727  0.391455  0.560182  2.236364  1.781818\n",
              "       3         997.311111  1.333333  0.403111  0.516000  2.733333  1.733333\n",
              "       4        1237.740741  0.851852  0.458889  0.466667  2.222222  2.074074\n",
              "       5        1169.055556  1.444444  0.401667  0.614444  2.222222  2.500000\n",
              "       6        1382.545455  1.363636  0.426364  0.622727  2.363636  1.363636\n",
              "       7        1034.846154  1.384615  0.436154  0.473462  2.653846  2.230769\n",
              "       8        1883.090909  1.090909  0.471818  0.404545  2.181818  4.000000\n",
              "       9        1349.000000  0.500000  0.570000  0.825000  3.000000  1.000000\n",
              "       10       1099.428571  2.142857  0.512857  0.421429  2.571429  2.000000\n",
              "       12       1661.000000  2.000000  0.720000  0.250000  3.500000  5.500000\n",
              "       13        906.000000  4.000000  0.720000  0.300000  4.500000  3.500000\n",
              "       14       1392.112069  1.543103  0.551724  0.427586  2.534483  4.112069\n",
              "male   0        3008.911019  0.136007  0.344703  0.694398  1.099585  0.924850\n",
              "       1        2485.158537  0.304878  0.286220  0.676341  1.743902  1.256098\n",
              "       2        2007.679245  0.471698  0.343585  0.653019  2.358491  1.547170\n",
              "       3        1909.068966  0.724138  0.334138  0.741379  2.137931  1.689655\n",
              "       4        1424.000000  0.722222  0.309444  0.869444  2.055556  2.000000\n",
              "       5        1437.272727  1.136364  0.331818  0.570455  2.272727  2.818182\n",
              "       6         562.000000  0.833333  0.340000  0.591667  2.500000  2.000000\n",
              "       7        1716.750000  0.750000  0.314167  0.655000  2.583333  4.333333\n",
              "       8         680.666667  1.333333  0.365000  0.833333  2.666667  2.000000\n",
              "       9        1375.400000  2.200000  0.310000  0.392000  2.400000  2.000000\n",
              "       10       1543.200000  1.800000  0.480000  0.590000  2.600000  4.600000\n",
              "       11        355.500000  5.000000  0.320000  1.000000  1.500000  0.500000\n",
              "       12        781.500000  2.000000  0.370000  0.515000  1.500000  1.000000\n",
              "       13        508.666667  4.000000  0.510000  0.350000  3.333333  2.333333\n",
              "       14       1236.069444  1.555556  0.476806  0.598611  2.375000  3.527778"
            ],
            "text/html": [
              "\n",
              "\n",
              "  <div id=\"df-4039d15d-177e-4739-91da-6611ec5e076b\">\n",
              "    <div class=\"colab-df-container\">\n",
              "      <div>\n",
              "<style scoped>\n",
              "    .dataframe tbody tr th:only-of-type {\n",
              "        vertical-align: middle;\n",
              "    }\n",
              "\n",
              "    .dataframe tbody tr th {\n",
              "        vertical-align: top;\n",
              "    }\n",
              "\n",
              "    .dataframe thead th {\n",
              "        text-align: right;\n",
              "    }\n",
              "</style>\n",
              "<table border=\"1\" class=\"dataframe\">\n",
              "  <thead>\n",
              "    <tr style=\"text-align: right;\">\n",
              "      <th></th>\n",
              "      <th></th>\n",
              "      <th>Unnamed: 0</th>\n",
              "      <th>visits</th>\n",
              "      <th>age</th>\n",
              "      <th>income</th>\n",
              "      <th>illness</th>\n",
              "      <th>health</th>\n",
              "    </tr>\n",
              "    <tr>\n",
              "      <th>gender</th>\n",
              "      <th>reduced</th>\n",
              "      <th></th>\n",
              "      <th></th>\n",
              "      <th></th>\n",
              "      <th></th>\n",
              "      <th></th>\n",
              "      <th></th>\n",
              "    </tr>\n",
              "  </thead>\n",
              "  <tbody>\n",
              "    <tr>\n",
              "      <th rowspan=\"14\" valign=\"top\">female</th>\n",
              "      <th>0</th>\n",
              "      <td>2524.038512</td>\n",
              "      <td>0.229322</td>\n",
              "      <td>0.465755</td>\n",
              "      <td>0.482735</td>\n",
              "      <td>1.462144</td>\n",
              "      <td>1.115098</td>\n",
              "    </tr>\n",
              "    <tr>\n",
              "      <th>1</th>\n",
              "      <td>1985.768421</td>\n",
              "      <td>0.400000</td>\n",
              "      <td>0.325684</td>\n",
              "      <td>0.542105</td>\n",
              "      <td>2.242105</td>\n",
              "      <td>1.610526</td>\n",
              "    </tr>\n",
              "    <tr>\n",
              "      <th>2</th>\n",
              "      <td>1622.618182</td>\n",
              "      <td>0.672727</td>\n",
              "      <td>0.391455</td>\n",
              "      <td>0.560182</td>\n",
              "      <td>2.236364</td>\n",
              "      <td>1.781818</td>\n",
              "    </tr>\n",
              "    <tr>\n",
              "      <th>3</th>\n",
              "      <td>997.311111</td>\n",
              "      <td>1.333333</td>\n",
              "      <td>0.403111</td>\n",
              "      <td>0.516000</td>\n",
              "      <td>2.733333</td>\n",
              "      <td>1.733333</td>\n",
              "    </tr>\n",
              "    <tr>\n",
              "      <th>4</th>\n",
              "      <td>1237.740741</td>\n",
              "      <td>0.851852</td>\n",
              "      <td>0.458889</td>\n",
              "      <td>0.466667</td>\n",
              "      <td>2.222222</td>\n",
              "      <td>2.074074</td>\n",
              "    </tr>\n",
              "    <tr>\n",
              "      <th>5</th>\n",
              "      <td>1169.055556</td>\n",
              "      <td>1.444444</td>\n",
              "      <td>0.401667</td>\n",
              "      <td>0.614444</td>\n",
              "      <td>2.222222</td>\n",
              "      <td>2.500000</td>\n",
              "    </tr>\n",
              "    <tr>\n",
              "      <th>6</th>\n",
              "      <td>1382.545455</td>\n",
              "      <td>1.363636</td>\n",
              "      <td>0.426364</td>\n",
              "      <td>0.622727</td>\n",
              "      <td>2.363636</td>\n",
              "      <td>1.363636</td>\n",
              "    </tr>\n",
              "    <tr>\n",
              "      <th>7</th>\n",
              "      <td>1034.846154</td>\n",
              "      <td>1.384615</td>\n",
              "      <td>0.436154</td>\n",
              "      <td>0.473462</td>\n",
              "      <td>2.653846</td>\n",
              "      <td>2.230769</td>\n",
              "    </tr>\n",
              "    <tr>\n",
              "      <th>8</th>\n",
              "      <td>1883.090909</td>\n",
              "      <td>1.090909</td>\n",
              "      <td>0.471818</td>\n",
              "      <td>0.404545</td>\n",
              "      <td>2.181818</td>\n",
              "      <td>4.000000</td>\n",
              "    </tr>\n",
              "    <tr>\n",
              "      <th>9</th>\n",
              "      <td>1349.000000</td>\n",
              "      <td>0.500000</td>\n",
              "      <td>0.570000</td>\n",
              "      <td>0.825000</td>\n",
              "      <td>3.000000</td>\n",
              "      <td>1.000000</td>\n",
              "    </tr>\n",
              "    <tr>\n",
              "      <th>10</th>\n",
              "      <td>1099.428571</td>\n",
              "      <td>2.142857</td>\n",
              "      <td>0.512857</td>\n",
              "      <td>0.421429</td>\n",
              "      <td>2.571429</td>\n",
              "      <td>2.000000</td>\n",
              "    </tr>\n",
              "    <tr>\n",
              "      <th>12</th>\n",
              "      <td>1661.000000</td>\n",
              "      <td>2.000000</td>\n",
              "      <td>0.720000</td>\n",
              "      <td>0.250000</td>\n",
              "      <td>3.500000</td>\n",
              "      <td>5.500000</td>\n",
              "    </tr>\n",
              "    <tr>\n",
              "      <th>13</th>\n",
              "      <td>906.000000</td>\n",
              "      <td>4.000000</td>\n",
              "      <td>0.720000</td>\n",
              "      <td>0.300000</td>\n",
              "      <td>4.500000</td>\n",
              "      <td>3.500000</td>\n",
              "    </tr>\n",
              "    <tr>\n",
              "      <th>14</th>\n",
              "      <td>1392.112069</td>\n",
              "      <td>1.543103</td>\n",
              "      <td>0.551724</td>\n",
              "      <td>0.427586</td>\n",
              "      <td>2.534483</td>\n",
              "      <td>4.112069</td>\n",
              "    </tr>\n",
              "    <tr>\n",
              "      <th rowspan=\"15\" valign=\"top\">male</th>\n",
              "      <th>0</th>\n",
              "      <td>3008.911019</td>\n",
              "      <td>0.136007</td>\n",
              "      <td>0.344703</td>\n",
              "      <td>0.694398</td>\n",
              "      <td>1.099585</td>\n",
              "      <td>0.924850</td>\n",
              "    </tr>\n",
              "    <tr>\n",
              "      <th>1</th>\n",
              "      <td>2485.158537</td>\n",
              "      <td>0.304878</td>\n",
              "      <td>0.286220</td>\n",
              "      <td>0.676341</td>\n",
              "      <td>1.743902</td>\n",
              "      <td>1.256098</td>\n",
              "    </tr>\n",
              "    <tr>\n",
              "      <th>2</th>\n",
              "      <td>2007.679245</td>\n",
              "      <td>0.471698</td>\n",
              "      <td>0.343585</td>\n",
              "      <td>0.653019</td>\n",
              "      <td>2.358491</td>\n",
              "      <td>1.547170</td>\n",
              "    </tr>\n",
              "    <tr>\n",
              "      <th>3</th>\n",
              "      <td>1909.068966</td>\n",
              "      <td>0.724138</td>\n",
              "      <td>0.334138</td>\n",
              "      <td>0.741379</td>\n",
              "      <td>2.137931</td>\n",
              "      <td>1.689655</td>\n",
              "    </tr>\n",
              "    <tr>\n",
              "      <th>4</th>\n",
              "      <td>1424.000000</td>\n",
              "      <td>0.722222</td>\n",
              "      <td>0.309444</td>\n",
              "      <td>0.869444</td>\n",
              "      <td>2.055556</td>\n",
              "      <td>2.000000</td>\n",
              "    </tr>\n",
              "    <tr>\n",
              "      <th>5</th>\n",
              "      <td>1437.272727</td>\n",
              "      <td>1.136364</td>\n",
              "      <td>0.331818</td>\n",
              "      <td>0.570455</td>\n",
              "      <td>2.272727</td>\n",
              "      <td>2.818182</td>\n",
              "    </tr>\n",
              "    <tr>\n",
              "      <th>6</th>\n",
              "      <td>562.000000</td>\n",
              "      <td>0.833333</td>\n",
              "      <td>0.340000</td>\n",
              "      <td>0.591667</td>\n",
              "      <td>2.500000</td>\n",
              "      <td>2.000000</td>\n",
              "    </tr>\n",
              "    <tr>\n",
              "      <th>7</th>\n",
              "      <td>1716.750000</td>\n",
              "      <td>0.750000</td>\n",
              "      <td>0.314167</td>\n",
              "      <td>0.655000</td>\n",
              "      <td>2.583333</td>\n",
              "      <td>4.333333</td>\n",
              "    </tr>\n",
              "    <tr>\n",
              "      <th>8</th>\n",
              "      <td>680.666667</td>\n",
              "      <td>1.333333</td>\n",
              "      <td>0.365000</td>\n",
              "      <td>0.833333</td>\n",
              "      <td>2.666667</td>\n",
              "      <td>2.000000</td>\n",
              "    </tr>\n",
              "    <tr>\n",
              "      <th>9</th>\n",
              "      <td>1375.400000</td>\n",
              "      <td>2.200000</td>\n",
              "      <td>0.310000</td>\n",
              "      <td>0.392000</td>\n",
              "      <td>2.400000</td>\n",
              "      <td>2.000000</td>\n",
              "    </tr>\n",
              "    <tr>\n",
              "      <th>10</th>\n",
              "      <td>1543.200000</td>\n",
              "      <td>1.800000</td>\n",
              "      <td>0.480000</td>\n",
              "      <td>0.590000</td>\n",
              "      <td>2.600000</td>\n",
              "      <td>4.600000</td>\n",
              "    </tr>\n",
              "    <tr>\n",
              "      <th>11</th>\n",
              "      <td>355.500000</td>\n",
              "      <td>5.000000</td>\n",
              "      <td>0.320000</td>\n",
              "      <td>1.000000</td>\n",
              "      <td>1.500000</td>\n",
              "      <td>0.500000</td>\n",
              "    </tr>\n",
              "    <tr>\n",
              "      <th>12</th>\n",
              "      <td>781.500000</td>\n",
              "      <td>2.000000</td>\n",
              "      <td>0.370000</td>\n",
              "      <td>0.515000</td>\n",
              "      <td>1.500000</td>\n",
              "      <td>1.000000</td>\n",
              "    </tr>\n",
              "    <tr>\n",
              "      <th>13</th>\n",
              "      <td>508.666667</td>\n",
              "      <td>4.000000</td>\n",
              "      <td>0.510000</td>\n",
              "      <td>0.350000</td>\n",
              "      <td>3.333333</td>\n",
              "      <td>2.333333</td>\n",
              "    </tr>\n",
              "    <tr>\n",
              "      <th>14</th>\n",
              "      <td>1236.069444</td>\n",
              "      <td>1.555556</td>\n",
              "      <td>0.476806</td>\n",
              "      <td>0.598611</td>\n",
              "      <td>2.375000</td>\n",
              "      <td>3.527778</td>\n",
              "    </tr>\n",
              "  </tbody>\n",
              "</table>\n",
              "</div>\n",
              "      <button class=\"colab-df-convert\" onclick=\"convertToInteractive('df-4039d15d-177e-4739-91da-6611ec5e076b')\"\n",
              "              title=\"Convert this dataframe to an interactive table.\"\n",
              "              style=\"display:none;\">\n",
              "\n",
              "  <svg xmlns=\"http://www.w3.org/2000/svg\" height=\"24px\"viewBox=\"0 0 24 24\"\n",
              "       width=\"24px\">\n",
              "    <path d=\"M0 0h24v24H0V0z\" fill=\"none\"/>\n",
              "    <path d=\"M18.56 5.44l.94 2.06.94-2.06 2.06-.94-2.06-.94-.94-2.06-.94 2.06-2.06.94zm-11 1L8.5 8.5l.94-2.06 2.06-.94-2.06-.94L8.5 2.5l-.94 2.06-2.06.94zm10 10l.94 2.06.94-2.06 2.06-.94-2.06-.94-.94-2.06-.94 2.06-2.06.94z\"/><path d=\"M17.41 7.96l-1.37-1.37c-.4-.4-.92-.59-1.43-.59-.52 0-1.04.2-1.43.59L10.3 9.45l-7.72 7.72c-.78.78-.78 2.05 0 2.83L4 21.41c.39.39.9.59 1.41.59.51 0 1.02-.2 1.41-.59l7.78-7.78 2.81-2.81c.8-.78.8-2.07 0-2.86zM5.41 20L4 18.59l7.72-7.72 1.47 1.35L5.41 20z\"/>\n",
              "  </svg>\n",
              "      </button>\n",
              "\n",
              "\n",
              "\n",
              "    <div id=\"df-b0a0ba3f-58ea-4f04-b882-3b02d2949105\">\n",
              "      <button class=\"colab-df-quickchart\" onclick=\"quickchart('df-b0a0ba3f-58ea-4f04-b882-3b02d2949105')\"\n",
              "              title=\"Suggest charts.\"\n",
              "              style=\"display:none;\">\n",
              "\n",
              "<svg xmlns=\"http://www.w3.org/2000/svg\" height=\"24px\"viewBox=\"0 0 24 24\"\n",
              "     width=\"24px\">\n",
              "    <g>\n",
              "        <path d=\"M19 3H5c-1.1 0-2 .9-2 2v14c0 1.1.9 2 2 2h14c1.1 0 2-.9 2-2V5c0-1.1-.9-2-2-2zM9 17H7v-7h2v7zm4 0h-2V7h2v10zm4 0h-2v-4h2v4z\"/>\n",
              "    </g>\n",
              "</svg>\n",
              "      </button>\n",
              "    </div>\n",
              "\n",
              "<style>\n",
              "  .colab-df-quickchart {\n",
              "    background-color: #E8F0FE;\n",
              "    border: none;\n",
              "    border-radius: 50%;\n",
              "    cursor: pointer;\n",
              "    display: none;\n",
              "    fill: #1967D2;\n",
              "    height: 32px;\n",
              "    padding: 0 0 0 0;\n",
              "    width: 32px;\n",
              "  }\n",
              "\n",
              "  .colab-df-quickchart:hover {\n",
              "    background-color: #E2EBFA;\n",
              "    box-shadow: 0px 1px 2px rgba(60, 64, 67, 0.3), 0px 1px 3px 1px rgba(60, 64, 67, 0.15);\n",
              "    fill: #174EA6;\n",
              "  }\n",
              "\n",
              "  [theme=dark] .colab-df-quickchart {\n",
              "    background-color: #3B4455;\n",
              "    fill: #D2E3FC;\n",
              "  }\n",
              "\n",
              "  [theme=dark] .colab-df-quickchart:hover {\n",
              "    background-color: #434B5C;\n",
              "    box-shadow: 0px 1px 3px 1px rgba(0, 0, 0, 0.15);\n",
              "    filter: drop-shadow(0px 1px 2px rgba(0, 0, 0, 0.3));\n",
              "    fill: #FFFFFF;\n",
              "  }\n",
              "</style>\n",
              "\n",
              "    <script>\n",
              "      async function quickchart(key) {\n",
              "        const containerElement = document.querySelector('#' + key);\n",
              "        const charts = await google.colab.kernel.invokeFunction(\n",
              "            'suggestCharts', [key], {});\n",
              "      }\n",
              "    </script>\n",
              "\n",
              "      <script>\n",
              "\n",
              "function displayQuickchartButton(domScope) {\n",
              "  let quickchartButtonEl =\n",
              "    domScope.querySelector('#df-b0a0ba3f-58ea-4f04-b882-3b02d2949105 button.colab-df-quickchart');\n",
              "  quickchartButtonEl.style.display =\n",
              "    google.colab.kernel.accessAllowed ? 'block' : 'none';\n",
              "}\n",
              "\n",
              "        displayQuickchartButton(document);\n",
              "      </script>\n",
              "      <style>\n",
              "    .colab-df-container {\n",
              "      display:flex;\n",
              "      flex-wrap:wrap;\n",
              "      gap: 12px;\n",
              "    }\n",
              "\n",
              "    .colab-df-convert {\n",
              "      background-color: #E8F0FE;\n",
              "      border: none;\n",
              "      border-radius: 50%;\n",
              "      cursor: pointer;\n",
              "      display: none;\n",
              "      fill: #1967D2;\n",
              "      height: 32px;\n",
              "      padding: 0 0 0 0;\n",
              "      width: 32px;\n",
              "    }\n",
              "\n",
              "    .colab-df-convert:hover {\n",
              "      background-color: #E2EBFA;\n",
              "      box-shadow: 0px 1px 2px rgba(60, 64, 67, 0.3), 0px 1px 3px 1px rgba(60, 64, 67, 0.15);\n",
              "      fill: #174EA6;\n",
              "    }\n",
              "\n",
              "    [theme=dark] .colab-df-convert {\n",
              "      background-color: #3B4455;\n",
              "      fill: #D2E3FC;\n",
              "    }\n",
              "\n",
              "    [theme=dark] .colab-df-convert:hover {\n",
              "      background-color: #434B5C;\n",
              "      box-shadow: 0px 1px 3px 1px rgba(0, 0, 0, 0.15);\n",
              "      filter: drop-shadow(0px 1px 2px rgba(0, 0, 0, 0.3));\n",
              "      fill: #FFFFFF;\n",
              "    }\n",
              "  </style>\n",
              "\n",
              "      <script>\n",
              "        const buttonEl =\n",
              "          document.querySelector('#df-4039d15d-177e-4739-91da-6611ec5e076b button.colab-df-convert');\n",
              "        buttonEl.style.display =\n",
              "          google.colab.kernel.accessAllowed ? 'block' : 'none';\n",
              "\n",
              "        async function convertToInteractive(key) {\n",
              "          const element = document.querySelector('#df-4039d15d-177e-4739-91da-6611ec5e076b');\n",
              "          const dataTable =\n",
              "            await google.colab.kernel.invokeFunction('convertToInteractive',\n",
              "                                                     [key], {});\n",
              "          if (!dataTable) return;\n",
              "\n",
              "          const docLinkHtml = 'Like what you see? Visit the ' +\n",
              "            '<a target=\"_blank\" href=https://colab.research.google.com/notebooks/data_table.ipynb>data table notebook</a>'\n",
              "            + ' to learn more about interactive tables.';\n",
              "          element.innerHTML = '';\n",
              "          dataTable['output_type'] = 'display_data';\n",
              "          await google.colab.output.renderOutput(dataTable, element);\n",
              "          const docLink = document.createElement('div');\n",
              "          docLink.innerHTML = docLinkHtml;\n",
              "          element.appendChild(docLink);\n",
              "        }\n",
              "      </script>\n",
              "    </div>\n",
              "  </div>\n"
            ]
          },
          "metadata": {},
          "execution_count": 9
        }
      ]
    },
    {
      "cell_type": "markdown",
      "source": [
        "#Using a heat map, determine whether there are any missing values in the dataset."
      ],
      "metadata": {
        "id": "oP82WaUH8img"
      }
    },
    {
      "cell_type": "code",
      "source": [
        "sns.heatmap(df.isnull(),cbar=False ,cmap=\"viridis\")"
      ],
      "metadata": {
        "colab": {
          "base_uri": "https://localhost:8080/",
          "height": 525
        },
        "id": "4NtMd-Rt8jrz",
        "outputId": "87fb516f-e08c-408f-e9ef-8ad7cb4d97b2"
      },
      "execution_count": null,
      "outputs": [
        {
          "output_type": "execute_result",
          "data": {
            "text/plain": [
              "<Axes: >"
            ]
          },
          "metadata": {},
          "execution_count": 9
        },
        {
          "output_type": "display_data",
          "data": {
            "text/plain": [
              "<Figure size 640x480 with 1 Axes>"
            ],
            "image/png": "[encoded data removed]"
          },
          "metadata": {}
        }
      ]
    },
    {
      "cell_type": "markdown",
      "source": [
        "From the above heatmap, we can consider that there are no missing values in the dataset"
      ],
      "metadata": {
        "id": "NwemSoVhCaWb"
      }
    },
    {
      "cell_type": "markdown",
      "source": [
        "#Determine the correlation between variables in a given dataset as well as the correlation between different variables."
      ],
      "metadata": {
        "id": "xHzj48tH8svU"
      }
    },
    {
      "cell_type": "code",
      "source": [
        "plt.figure(figsize=(10,10))\n",
        "sns.heatmap(df.corr(),cbar=True ,annot=True,cmap=\"Blues\")"
      ],
      "metadata": {
        "colab": {
          "base_uri": "https://localhost:8080/",
          "height": 908
        },
        "id": "1Y1BEGjc8vDl",
        "outputId": "92eb5f81-bf7c-42b5-8bcb-272a3760b844"
      },
      "execution_count": null,
      "outputs": [
        {
          "output_type": "stream",
          "name": "stderr",
          "text": [
            "<ipython-input-10-9b4e61a1c506>:2: FutureWarning: The default value of numeric_only in DataFrame.corr is deprecated. In a future version, it will default to False. Select only valid columns or specify the value of numeric_only to silence this warning.\n",
            "  sns.heatmap(df.corr(),cbar=True ,annot=True,cmap=\"Blues\")\n"
          ]
        },
        {
          "output_type": "execute_result",
          "data": {
            "text/plain": [
              "<Axes: >"
            ]
          },
          "metadata": {},
          "execution_count": 10
        },
        {
          "output_type": "display_data",
          "data": {
            "text/plain": [
              "<Figure size 1000x1000 with 2 Axes>"
            ],
            "image/png": "[encoded data removed]"
          },
          "metadata": {}
        }
      ]
    },
    {
      "cell_type": "markdown",
      "source": [
        "#Analyze how the income of patient affects the number of visits to the doctor"
      ],
      "metadata": {
        "id": "sjPqcQpZ8x9R"
      }
    },
    {
      "cell_type": "code",
      "source": [
        "plt.figure(figsize=(10,10))\n",
        "plt.scatter(x='income',y='visits',data=df)\n",
        "plt.xlabel('income')\n",
        "plt.ylabel('visits')"
      ],
      "metadata": {
        "colab": {
          "base_uri": "https://localhost:8080/",
          "height": 867
        },
        "id": "IB6QgO6M8zDU",
        "outputId": "d38a9230-9522-456b-e2a4-56194a1206e1"
      },
      "execution_count": null,
      "outputs": [
        {
          "output_type": "execute_result",
          "data": {
            "text/plain": [
              "Text(0, 0.5, 'visits')"
            ]
          },
          "metadata": {},
          "execution_count": 11
        },
        {
          "output_type": "display_data",
          "data": {
            "text/plain": [
              "<Figure size 1000x1000 with 1 Axes>"
            ],
            "image/png": "[encoded data removed]"
          },
          "metadata": {}
        }
      ]
    },
    {
      "cell_type": "markdown",
      "source": [
        "#Count and visualize the number of males and females affected by illness."
      ],
      "metadata": {
        "id": "tYSzi5iw83EQ"
      }
    },
    {
      "cell_type": "code",
      "source": [
        "sns.histplot(df.gender,bins=2)"
      ],
      "metadata": {
        "colab": {
          "base_uri": "https://localhost:8080/",
          "height": 466
        },
        "id": "vsiLurch84fO",
        "outputId": "2cc179f2-12dd-43ab-b40c-74e00d3e3ab7"
      },
      "execution_count": null,
      "outputs": [
        {
          "output_type": "execute_result",
          "data": {
            "text/plain": [
              "<Axes: xlabel='gender', ylabel='Count'>"
            ]
          },
          "metadata": {},
          "execution_count": 12
        },
        {
          "output_type": "display_data",
          "data": {
            "text/plain": [
              "<Figure size 640x480 with 1 Axes>"
            ],
            "image/png": "[encoded data removed]"
          },
          "metadata": {}
        }
      ]
    },
    {
      "cell_type": "markdown",
      "source": [
        "#Count and visualize the percentage of males and females visited the doctor."
      ],
      "metadata": {
        "id": "j02SXVRK-5os"
      }
    },
    {
      "cell_type": "code",
      "source": [
        "gen = df.groupby([\"gender\"],as_index=False)['income'].sum().sort_values(by=\"income\",ascending=False)\n",
        "\n",
        "sns.barplot(x='gender',y='income',data=gen)"
      ],
      "metadata": {
        "colab": {
          "base_uri": "https://localhost:8080/",
          "height": 466
        },
        "id": "080zp2zY_GY8",
        "outputId": "19357f35-3817-4c31-81e1-1c45376b3d9a"
      },
      "execution_count": null,
      "outputs": [
        {
          "output_type": "execute_result",
          "data": {
            "text/plain": [
              "<Axes: xlabel='gender', ylabel='income'>"
            ]
          },
          "metadata": {},
          "execution_count": 16
        },
        {
          "output_type": "display_data",
          "data": {
            "text/plain": [
              "<Figure size 640x480 with 1 Axes>"
            ],
            "image/png": "[encoded data removed]"
          },
          "metadata": {}
        }
      ]
    },
    {
      "cell_type": "markdown",
      "source": [
        "From the above plot, we can see that the percentage of males is higher than the percentage of females corresponding to the income of the patients"
      ],
      "metadata": {
        "id": "CHE8UB7__pr1"
      }
    },
    {
      "cell_type": "markdown",
      "source": [
        "#Analyze the relationship between gender and illness of the patients."
      ],
      "metadata": {
        "id": "tnQp4APjOcrE"
      }
    },
    {
      "cell_type": "code",
      "source": [
        "df.groupby([\"gender\", \"illness\"]).mean()"
      ],
      "metadata": {
        "colab": {
          "base_uri": "https://localhost:8080/",
          "height": 511
        },
        "id": "h3jO1gtxOn7P",
        "outputId": "8cb97361-87a6-4749-c5ee-f6a2d4e8fc94"
      },
      "execution_count": null,
      "outputs": [
        {
          "output_type": "stream",
          "name": "stderr",
          "text": [
            "<ipython-input-23-81ef37c39578>:1: FutureWarning: The default value of numeric_only in DataFrameGroupBy.mean is deprecated. In a future version, numeric_only will default to False. Either specify numeric_only or select only columns which should be valid for the function.\n",
            "  df.groupby([\"gender\", \"illness\"]).mean()\n"
          ]
        },
        {
          "output_type": "execute_result",
          "data": {
            "text/plain": [
              "                 Unnamed: 0    visits       age    income   reduced    health\n",
              "gender illness                                                               \n",
              "female 0        3041.564065  0.106038  0.442769  0.516406  0.042710  0.443299\n",
              "       1        2363.038369  0.350120  0.431259  0.507722  1.083933  1.079137\n",
              "       2        2098.672316  0.442561  0.462373  0.497834  1.015066  1.514124\n",
              "       3        1953.609610  0.462462  0.490601  0.433964  1.246246  1.987988\n",
              "       4        1835.407186  0.622754  0.522635  0.411617  1.928144  2.658683\n",
              "       5        1753.455696  0.765823  0.574873  0.376392  2.702532  3.132911\n",
              "male   0        3356.234286  0.057143  0.322754  0.731977  0.057143  0.418286\n",
              "       1        2854.269900  0.238806  0.329838  0.700833  0.781095  0.886816\n",
              "       2        2406.600000  0.354217  0.363325  0.654651  1.067470  1.677108\n",
              "       3        2243.822967  0.354067  0.387081  0.616364  1.511962  1.602871\n",
              "       4        2129.943925  0.504673  0.416262  0.621682  1.710280  3.056075\n",
              "       5        2038.500000  0.910256  0.487308  0.570256  2.782051  3.538462"
            ],
            "text/html": [
              "\n",
              "\n",
              "  <div id=\"df-32d73e9c-2831-4b4e-92fa-561f2df8dcb0\">\n",
              "    <div class=\"colab-df-container\">\n",
              "      <div>\n",
              "<style scoped>\n",
              "    .dataframe tbody tr th:only-of-type {\n",
              "        vertical-align: middle;\n",
              "    }\n",
              "\n",
              "    .dataframe tbody tr th {\n",
              "        vertical-align: top;\n",
              "    }\n",
              "\n",
              "    .dataframe thead th {\n",
              "        text-align: right;\n",
              "    }\n",
              "</style>\n",
              "<table border=\"1\" class=\"dataframe\">\n",
              "  <thead>\n",
              "    <tr style=\"text-align: right;\">\n",
              "      <th></th>\n",
              "      <th></th>\n",
              "      <th>Unnamed: 0</th>\n",
              "      <th>visits</th>\n",
              "      <th>age</th>\n",
              "      <th>income</th>\n",
              "      <th>reduced</th>\n",
              "      <th>health</th>\n",
              "    </tr>\n",
              "    <tr>\n",
              "      <th>gender</th>\n",
              "      <th>illness</th>\n",
              "      <th></th>\n",
              "      <th></th>\n",
              "      <th></th>\n",
              "      <th></th>\n",
              "      <th></th>\n",
              "      <th></th>\n",
              "    </tr>\n",
              "  </thead>\n",
              "  <tbody>\n",
              "    <tr>\n",
              "      <th rowspan=\"6\" valign=\"top\">female</th>\n",
              "      <th>0</th>\n",
              "      <td>3041.564065</td>\n",
              "      <td>0.106038</td>\n",
              "      <td>0.442769</td>\n",
              "      <td>0.516406</td>\n",
              "      <td>0.042710</td>\n",
              "      <td>0.443299</td>\n",
              "    </tr>\n",
              "    <tr>\n",
              "      <th>1</th>\n",
              "      <td>2363.038369</td>\n",
              "      <td>0.350120</td>\n",
              "      <td>0.431259</td>\n",
              "      <td>0.507722</td>\n",
              "      <td>1.083933</td>\n",
              "      <td>1.079137</td>\n",
              "    </tr>\n",
              "    <tr>\n",
              "      <th>2</th>\n",
              "      <td>2098.672316</td>\n",
              "      <td>0.442561</td>\n",
              "      <td>0.462373</td>\n",
              "      <td>0.497834</td>\n",
              "      <td>1.015066</td>\n",
              "      <td>1.514124</td>\n",
              "    </tr>\n",
              "    <tr>\n",
              "      <th>3</th>\n",
              "      <td>1953.609610</td>\n",
              "      <td>0.462462</td>\n",
              "      <td>0.490601</td>\n",
              "      <td>0.433964</td>\n",
              "      <td>1.246246</td>\n",
              "      <td>1.987988</td>\n",
              "    </tr>\n",
              "    <tr>\n",
              "      <th>4</th>\n",
              "      <td>1835.407186</td>\n",
              "      <td>0.622754</td>\n",
              "      <td>0.522635</td>\n",
              "      <td>0.411617</td>\n",
              "      <td>1.928144</td>\n",
              "      <td>2.658683</td>\n",
              "    </tr>\n",
              "    <tr>\n",
              "      <th>5</th>\n",
              "      <td>1753.455696</td>\n",
              "      <td>0.765823</td>\n",
              "      <td>0.574873</td>\n",
              "      <td>0.376392</td>\n",
              "      <td>2.702532</td>\n",
              "      <td>3.132911</td>\n",
              "    </tr>\n",
              "    <tr>\n",
              "      <th rowspan=\"6\" valign=\"top\">male</th>\n",
              "      <th>0</th>\n",
              "      <td>3356.234286</td>\n",
              "      <td>0.057143</td>\n",
              "      <td>0.322754</td>\n",
              "      <td>0.731977</td>\n",
              "      <td>0.057143</td>\n",
              "      <td>0.418286</td>\n",
              "    </tr>\n",
              "    <tr>\n",
              "      <th>1</th>\n",
              "      <td>2854.269900</td>\n",
              "      <td>0.238806</td>\n",
              "      <td>0.329838</td>\n",
              "      <td>0.700833</td>\n",
              "      <td>0.781095</td>\n",
              "      <td>0.886816</td>\n",
              "    </tr>\n",
              "    <tr>\n",
              "      <th>2</th>\n",
              "      <td>2406.600000</td>\n",
              "      <td>0.354217</td>\n",
              "      <td>0.363325</td>\n",
              "      <td>0.654651</td>\n",
              "      <td>1.067470</td>\n",
              "      <td>1.677108</td>\n",
              "    </tr>\n",
              "    <tr>\n",
              "      <th>3</th>\n",
              "      <td>2243.822967</td>\n",
              "      <td>0.354067</td>\n",
              "      <td>0.387081</td>\n",
              "      <td>0.616364</td>\n",
              "      <td>1.511962</td>\n",
              "      <td>1.602871</td>\n",
              "    </tr>\n",
              "    <tr>\n",
              "      <th>4</th>\n",
              "      <td>2129.943925</td>\n",
              "      <td>0.504673</td>\n",
              "      <td>0.416262</td>\n",
              "      <td>0.621682</td>\n",
              "      <td>1.710280</td>\n",
              "      <td>3.056075</td>\n",
              "    </tr>\n",
              "    <tr>\n",
              "      <th>5</th>\n",
              "      <td>2038.500000</td>\n",
              "      <td>0.910256</td>\n",
              "      <td>0.487308</td>\n",
              "      <td>0.570256</td>\n",
              "      <td>2.782051</td>\n",
              "      <td>3.538462</td>\n",
              "    </tr>\n",
              "  </tbody>\n",
              "</table>\n",
              "</div>\n",
              "      <button class=\"colab-df-convert\" onclick=\"convertToInteractive('df-32d73e9c-2831-4b4e-92fa-561f2df8dcb0')\"\n",
              "              title=\"Convert this dataframe to an interactive table.\"\n",
              "              style=\"display:none;\">\n",
              "\n",
              "  <svg xmlns=\"http://www.w3.org/2000/svg\" height=\"24px\"viewBox=\"0 0 24 24\"\n",
              "       width=\"24px\">\n",
              "    <path d=\"M0 0h24v24H0V0z\" fill=\"none\"/>\n",
              "    <path d=\"M18.56 5.44l.94 2.06.94-2.06 2.06-.94-2.06-.94-.94-2.06-.94 2.06-2.06.94zm-11 1L8.5 8.5l.94-2.06 2.06-.94-2.06-.94L8.5 2.5l-.94 2.06-2.06.94zm10 10l.94 2.06.94-2.06 2.06-.94-2.06-.94-.94-2.06-.94 2.06-2.06.94z\"/><path d=\"M17.41 7.96l-1.37-1.37c-.4-.4-.92-.59-1.43-.59-.52 0-1.04.2-1.43.59L10.3 9.45l-7.72 7.72c-.78.78-.78 2.05 0 2.83L4 21.41c.39.39.9.59 1.41.59.51 0 1.02-.2 1.41-.59l7.78-7.78 2.81-2.81c.8-.78.8-2.07 0-2.86zM5.41 20L4 18.59l7.72-7.72 1.47 1.35L5.41 20z\"/>\n",
              "  </svg>\n",
              "      </button>\n",
              "\n",
              "\n",
              "\n",
              "    <div id=\"df-55b82ad0-b91e-4ef4-a945-066facfe0013\">\n",
              "      <button class=\"colab-df-quickchart\" onclick=\"quickchart('df-55b82ad0-b91e-4ef4-a945-066facfe0013')\"\n",
              "              title=\"Suggest charts.\"\n",
              "              style=\"display:none;\">\n",
              "\n",
              "<svg xmlns=\"http://www.w3.org/2000/svg\" height=\"24px\"viewBox=\"0 0 24 24\"\n",
              "     width=\"24px\">\n",
              "    <g>\n",
              "        <path d=\"M19 3H5c-1.1 0-2 .9-2 2v14c0 1.1.9 2 2 2h14c1.1 0 2-.9 2-2V5c0-1.1-.9-2-2-2zM9 17H7v-7h2v7zm4 0h-2V7h2v10zm4 0h-2v-4h2v4z\"/>\n",
              "    </g>\n",
              "</svg>\n",
              "      </button>\n",
              "    </div>\n",
              "\n",
              "<style>\n",
              "  .colab-df-quickchart {\n",
              "    background-color: #E8F0FE;\n",
              "    border: none;\n",
              "    border-radius: 50%;\n",
              "    cursor: pointer;\n",
              "    display: none;\n",
              "    fill: #1967D2;\n",
              "    height: 32px;\n",
              "    padding: 0 0 0 0;\n",
              "    width: 32px;\n",
              "  }\n",
              "\n",
              "  .colab-df-quickchart:hover {\n",
              "    background-color: #E2EBFA;\n",
              "    box-shadow: 0px 1px 2px rgba(60, 64, 67, 0.3), 0px 1px 3px 1px rgba(60, 64, 67, 0.15);\n",
              "    fill: #174EA6;\n",
              "  }\n",
              "\n",
              "  [theme=dark] .colab-df-quickchart {\n",
              "    background-color: #3B4455;\n",
              "    fill: #D2E3FC;\n",
              "  }\n",
              "\n",
              "  [theme=dark] .colab-df-quickchart:hover {\n",
              "    background-color: #434B5C;\n",
              "    box-shadow: 0px 1px 3px 1px rgba(0, 0, 0, 0.15);\n",
              "    filter: drop-shadow(0px 1px 2px rgba(0, 0, 0, 0.3));\n",
              "    fill: #FFFFFF;\n",
              "  }\n",
              "</style>\n",
              "\n",
              "    <script>\n",
              "      async function quickchart(key) {\n",
              "        const containerElement = document.querySelector('#' + key);\n",
              "        const charts = await google.colab.kernel.invokeFunction(\n",
              "            'suggestCharts', [key], {});\n",
              "      }\n",
              "    </script>\n",
              "\n",
              "      <script>\n",
              "\n",
              "function displayQuickchartButton(domScope) {\n",
              "  let quickchartButtonEl =\n",
              "    domScope.querySelector('#df-55b82ad0-b91e-4ef4-a945-066facfe0013 button.colab-df-quickchart');\n",
              "  quickchartButtonEl.style.display =\n",
              "    google.colab.kernel.accessAllowed ? 'block' : 'none';\n",
              "}\n",
              "\n",
              "        displayQuickchartButton(document);\n",
              "      </script>\n",
              "      <style>\n",
              "    .colab-df-container {\n",
              "      display:flex;\n",
              "      flex-wrap:wrap;\n",
              "      gap: 12px;\n",
              "    }\n",
              "\n",
              "    .colab-df-convert {\n",
              "      background-color: #E8F0FE;\n",
              "      border: none;\n",
              "      border-radius: 50%;\n",
              "      cursor: pointer;\n",
              "      display: none;\n",
              "      fill: #1967D2;\n",
              "      height: 32px;\n",
              "      padding: 0 0 0 0;\n",
              "      width: 32px;\n",
              "    }\n",
              "\n",
              "    .colab-df-convert:hover {\n",
              "      background-color: #E2EBFA;\n",
              "      box-shadow: 0px 1px 2px rgba(60, 64, 67, 0.3), 0px 1px 3px 1px rgba(60, 64, 67, 0.15);\n",
              "      fill: #174EA6;\n",
              "    }\n",
              "\n",
              "    [theme=dark] .colab-df-convert {\n",
              "      background-color: #3B4455;\n",
              "      fill: #D2E3FC;\n",
              "    }\n",
              "\n",
              "    [theme=dark] .colab-df-convert:hover {\n",
              "      background-color: #434B5C;\n",
              "      box-shadow: 0px 1px 3px 1px rgba(0, 0, 0, 0.15);\n",
              "      filter: drop-shadow(0px 1px 2px rgba(0, 0, 0, 0.3));\n",
              "      fill: #FFFFFF;\n",
              "    }\n",
              "  </style>\n",
              "\n",
              "      <script>\n",
              "        const buttonEl =\n",
              "          document.querySelector('#df-32d73e9c-2831-4b4e-92fa-561f2df8dcb0 button.colab-df-convert');\n",
              "        buttonEl.style.display =\n",
              "          google.colab.kernel.accessAllowed ? 'block' : 'none';\n",
              "\n",
              "        async function convertToInteractive(key) {\n",
              "          const element = document.querySelector('#df-32d73e9c-2831-4b4e-92fa-561f2df8dcb0');\n",
              "          const dataTable =\n",
              "            await google.colab.kernel.invokeFunction('convertToInteractive',\n",
              "                                                     [key], {});\n",
              "          if (!dataTable) return;\n",
              "\n",
              "          const docLinkHtml = 'Like what you see? Visit the ' +\n",
              "            '<a target=\"_blank\" href=https://colab.research.google.com/notebooks/data_table.ipynb>data table notebook</a>'\n",
              "            + ' to learn more about interactive tables.';\n",
              "          element.innerHTML = '';\n",
              "          dataTable['output_type'] = 'display_data';\n",
              "          await google.colab.output.renderOutput(dataTable, element);\n",
              "          const docLink = document.createElement('div');\n",
              "          docLink.innerHTML = docLinkHtml;\n",
              "          element.appendChild(docLink);\n",
              "        }\n",
              "      </script>\n",
              "    </div>\n",
              "  </div>\n"
            ]
          },
          "metadata": {},
          "execution_count": 23
        }
      ]
    },
    {
      "cell_type": "code",
      "source": [
        "gen = df.groupby([\"gender\"],as_index=False)['illness'].sum().sort_values(by=\"illness\",ascending=False)\n",
        "\n",
        "sns.barplot(x='gender',y='illness',data=gen)"
      ],
      "metadata": {
        "colab": {
          "base_uri": "https://localhost:8080/",
          "height": 466
        },
        "id": "diJ_9R83O8hg",
        "outputId": "284e6a90-5ec4-4ba0-f9c8-8f554c2de7b5"
      },
      "execution_count": null,
      "outputs": [
        {
          "output_type": "execute_result",
          "data": {
            "text/plain": [
              "<Axes: xlabel='gender', ylabel='illness'>"
            ]
          },
          "metadata": {},
          "execution_count": 24
        },
        {
          "output_type": "display_data",
          "data": {
            "text/plain": [
              "<Figure size 640x480 with 1 Axes>"
            ],
            "image/png": "[encoded data removed]"
          },
          "metadata": {}
        }
      ]
    },
    {
      "cell_type": "markdown",
      "source": [
        "#hello"
      ],
      "metadata": {
        "id": "l4gL9NHe_-aG"
      }
    },
    {
      "cell_type": "code",
      "source": [
        "ax = sns.countplot(x='age',hue='gender',data=df)\n",
        "plt.ylabel('visits')\n",
        "\n",
        "for bars in ax.containers:\n",
        "  ax.bar_label(bars)\n"
      ],
      "metadata": {
        "colab": {
          "base_uri": "https://localhost:8080/",
          "height": 449
        },
        "id": "cg7BuC38__Er",
        "outputId": "9fb4a6b5-89ab-4ba5-b4e8-a6476f8c549c"
      },
      "execution_count": null,
      "outputs": [
        {
          "output_type": "display_data",
          "data": {
            "text/plain": [
              "<Figure size 640x480 with 1 Axes>"
            ],
            "image/png": "[encoded data removed]"
          },
          "metadata": {}
        }
      ]
    },
    {
      "cell_type": "markdown",
      "source": [
        "From the above graph, we can see that the highest visit count is for the age group of 22-25 years"
      ],
      "metadata": {
        "id": "wPBg0R18A0Ud"
      }
    },
    {
      "cell_type": "markdown",
      "source": [
        "#Visualize the percentage of people getting government health insurance due to low income, due to old age and also the percentage of people having private health insurance"
      ],
      "metadata": {
        "id": "QoER0eD-9E2Y"
      }
    },
    {
      "cell_type": "code",
      "source": [
        "label = ['yes','no']\n",
        "Y = df[df['freepoor'] == 'yes']\n",
        "N = df[df['freepoor'] == 'no']\n",
        "x = [Y.shape[0],N.shape[0]]\n",
        "plt.figure(figsize=(5,5))\n",
        "plt.pie(x,labels=label)\n",
        "plt.title(\"% of people getting govt health Insurance due to low income \")\n",
        "plt.show()\n",
        "# % of people having private Insurance\n",
        "Y = df[df['private']=='yes']\n",
        "N = df[df['private']=='no' ]\n",
        "x = [Y.shape[0], N.shape[0]]\n",
        "plt.figure(figsize=(5,5))\n",
        "plt.pie(x, labels=label)\n",
        "plt.title(\"% of people having private health Insurance \")\n",
        "plt.show()\n",
        "#% of people getting govt Insurance due to old age, disability or veteran status\n",
        "Y = df[df['freerepat']=='yes']\n",
        "N = df[df['freerepat']=='no' ]\n",
        "x = [Y.shape[0],N.shape[0]]\n",
        "plt.figure(figsize=(5,5))\n",
        "plt.pie(x, labels=label)\n",
        "plt.title(\"% of people getting govt health Insurance due to old age\")"
      ],
      "metadata": {
        "colab": {
          "base_uri": "https://localhost:8080/",
          "height": 1000
        },
        "id": "YjUeS4wX9GJP",
        "outputId": "a07fda34-9dc3-47b3-d3f3-45edb6ce9e33"
      },
      "execution_count": null,
      "outputs": [
        {
          "output_type": "display_data",
          "data": {
            "text/plain": [
              "<Figure size 500x500 with 1 Axes>"
            ],
            "image/png": "[encoded data removed]"
          },
          "metadata": {}
        },
        {
          "output_type": "display_data",
          "data": {
            "text/plain": [
              "<Figure size 500x500 with 1 Axes>"
            ],
            "image/png": "[encoded data removed]"
          },
          "metadata": {}
        },
        {
          "output_type": "execute_result",
          "data": {
            "text/plain": [
              "Text(0.5, 1.0, '% of people getting govt health Insurance due to old age')"
            ]
          },
          "metadata": {},
          "execution_count": 13
        },
        {
          "output_type": "display_data",
          "data": {
            "text/plain": [
              "<Figure size 500x500 with 1 Axes>"
            ],
            "image/png": "[encoded data removed]"
          },
          "metadata": {}
        }
      ]
    },
    {
      "cell_type": "markdown",
      "source": [
        "#Plot a horizontal bar chart to analyze the reduced days of activity of male and female separately due to illness."
      ],
      "metadata": {
        "id": "3pxjF-OX9MMQ"
      }
    },
    {
      "cell_type": "code",
      "source": [
        "db= df.groupby('gender')['reduced'].sum().to_frame().reset_index()\n",
        "#Creating the bar chart\n",
        "plt.barh(db['gender'], db['reduced'], color = ['cornflowerblue', 'lightseagreen'])\n",
        "#Adding the aesthetics\n",
        "plt.title('Bar Chart')\n",
        "plt.xlabel('gender')\n",
        "plt.ylabel('reduced activity')\n",
        "#Show the plot\n",
        "plt.show()"
      ],
      "metadata": {
        "colab": {
          "base_uri": "https://localhost:8080/",
          "height": 472
        },
        "id": "EL_IRaFn9Nst",
        "outputId": "e5810e21-16c2-4425-e0d6-56e25b600980"
      },
      "execution_count": null,
      "outputs": [
        {
          "output_type": "display_data",
          "data": {
            "text/plain": [
              "<Figure size 640x480 with 1 Axes>"
            ],
            "image/png": "[encoded data removed]"
          },
          "metadata": {}
        }
      ]
    }
  ]
}